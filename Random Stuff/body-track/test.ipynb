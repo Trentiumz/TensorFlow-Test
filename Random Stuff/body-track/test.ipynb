{
 "cells": [
  {
   "cell_type": "markdown",
   "source": [
    "# Body tracking software\n",
    "This model will track a pose and normalize it relative to the middle of their collarbone, their torso, and its perpedicular, hopefully giving a rotationally, translationally, and scaling-ly normalized body"
   ],
   "metadata": {
    "collapsed": false,
    "pycharm": {
     "name": "#%% md\n"
    }
   }
  },
  {
   "cell_type": "code",
   "execution_count": null,
   "outputs": [],
   "source": [
    "import tensorflow as tf\n",
    "from tensorflow import keras\n",
    "from keras import layers\n",
    "import cv2\n",
    "import matplotlib.pyplot as plt\n",
    "import numpy as np\n",
    "import time"
   ],
   "metadata": {
    "collapsed": false,
    "pycharm": {
     "name": "#%%\n"
    }
   }
  },
  {
   "cell_type": "code",
   "execution_count": null,
   "outputs": [],
   "source": [
    "vid = cv2.VideoCapture(1)"
   ],
   "metadata": {
    "collapsed": false,
    "pycharm": {
     "name": "#%%\n"
    }
   }
  },
  {
   "cell_type": "code",
   "execution_count": null,
   "outputs": [],
   "source": [
    "model = tf.lite.Interpreter(model_path=\"model.tflite\")\n",
    "model.allocate_tensors()\n",
    "\n",
    "def get_details(image):\n",
    "    resized = cv2.resize(image, dsize=(256, 256), interpolation=cv2.INTER_CUBIC)\n",
    "    resized = np.expand_dims(resized, 0).astype(\"uint8\")\n",
    "    input_details = model.get_input_details()\n",
    "    output_details = model.get_output_details()\n",
    "    model.set_tensor(input_details[0]['index'], resized)\n",
    "    model.invoke()\n",
    "    keypoints = model.get_tensor(output_details[0]['index'])[0][0]\n",
    "\n",
    "    returned_keypoints = [[image.shape[0] * i[0], image.shape[1] * i[1], i[2]] for i in keypoints]\n",
    "    return returned_keypoints"
   ],
   "metadata": {
    "collapsed": false,
    "pycharm": {
     "name": "#%%\n"
    }
   }
  },
  {
   "cell_type": "code",
   "execution_count": null,
   "outputs": [],
   "source": [
    "parts = [\"nose\", \"left eye\", \"right eye\", \"left ear\", \"right ear\", \"left shoulder\", \"right shoulder\", \"left elbow\", \"right elbow\", \"left wrist\", \"right wrist\", \"left hip\", \"right hip\", \"left knee\", \"right knee\", \"left ankle\", \"right ankle\"]\n",
    "part_to_ind = {part: i for i, part in enumerate(parts)}"
   ],
   "metadata": {
    "collapsed": false,
    "pycharm": {
     "name": "#%%\n"
    }
   }
  },
  {
   "cell_type": "code",
   "execution_count": null,
   "outputs": [],
   "source": [
    "while True:\n",
    "    ret, frame = vid.read()\n",
    "\n",
    "    frame = 255 - frame\n",
    "    positions = np.array(get_details(frame))\n",
    "    cv2.imshow(\"image\", frame)\n",
    "\n",
    "    plt.figure()\n",
    "    plt.imshow(frame)\n",
    "    \n",
    "    plt.scatter([i[1] for i in positions], [i[0] for i in positions], s=200)\n",
    "    plt.show()\n",
    "\n",
    "    time.sleep(0.5)"
   ],
   "metadata": {
    "collapsed": false,
    "pycharm": {
     "name": "#%%\n"
    }
   }
  }
 ],
 "metadata": {
  "kernelspec": {
   "display_name": "Python 3",
   "language": "python",
   "name": "python3"
  },
  "language_info": {
   "codemirror_mode": {
    "name": "ipython",
    "version": 2
   },
   "file_extension": ".py",
   "mimetype": "text/x-python",
   "name": "python",
   "nbconvert_exporter": "python",
   "pygments_lexer": "ipython2",
   "version": "2.7.6"
  }
 },
 "nbformat": 4,
 "nbformat_minor": 0
}