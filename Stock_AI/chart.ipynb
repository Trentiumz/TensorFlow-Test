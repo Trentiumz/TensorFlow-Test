{
 "cells": [
  {
   "cell_type": "code",
   "execution_count": 2,
   "metadata": {
    "collapsed": true
   },
   "outputs": [
    {
     "name": "stderr",
     "output_type": "stream",
     "text": [
      "c:\\users\\danie\\pycharmprojects\\tensorflowtest\\venv\\lib\\site-packages\\numpy\\_distributor_init.py:30: UserWarning: loaded more than 1 DLL from .libs:\n",
      "c:\\users\\danie\\pycharmprojects\\tensorflowtest\\venv\\lib\\site-packages\\numpy\\.libs\\libopenblas.GK7GX5KEQ4F6UYO3P26ULGBQYHGQO7J4.gfortran-win_amd64.dll\n",
      "c:\\users\\danie\\pycharmprojects\\tensorflowtest\\venv\\lib\\site-packages\\numpy\\.libs\\libopenblas.WCDJNK7YVMPZQ2ME2ZZHJJRJ3JIKNDB7.gfortran-win_amd64.dll\n",
      "  warnings.warn(\"loaded more than 1 DLL from .libs:\"\n"
     ]
    }
   ],
   "source": [
    "import pandas as pd\n",
    "import os\n"
   ]
  },
  {
   "cell_type": "markdown",
   "source": [
    "## Define Constants"
   ],
   "metadata": {
    "collapsed": false,
    "pycharm": {
     "name": "#%% md\n"
    }
   }
  },
  {
   "cell_type": "code",
   "execution_count": 3,
   "outputs": [],
   "source": [
    "data_folder = \"./Data/\"\n",
    "cur_file_name = \"CADJPY_M1.csv\"\n",
    "\n",
    "atr_len = 14\n",
    "atr_short = 1.\n",
    "atr_long = 2."
   ],
   "metadata": {
    "collapsed": false,
    "pycharm": {
     "name": "#%%\n"
    }
   }
  },
  {
   "cell_type": "code",
   "execution_count": 4,
   "outputs": [],
   "source": [
    "df = pd.read_csv(f\"{data_folder}{cur_file_name}\", sep=\"\\t\")"
   ],
   "metadata": {
    "collapsed": false,
    "pycharm": {
     "name": "#%%\n"
    }
   }
  },
  {
   "cell_type": "code",
   "execution_count": 5,
   "outputs": [],
   "source": [
    "df['true-range'] = df['High'] - df['Low']\n",
    "df['ATR'] = df.loc[:,'true-range'].rolling(window=atr_len).mean()\n",
    "df = df[atr_len:]\n",
    "\n",
    "high_bar = df['Close'] + atr_long * df['ATR']\n",
    "low_bar = df['Close'] - atr_long * df['ATR']\n",
    "high_close = df['Close'] + atr_short * df['ATR']\n",
    "low_close = df['Close'] - atr_short * df['ATR']\n"
   ],
   "metadata": {
    "collapsed": false,
    "pycharm": {
     "name": "#%%\n"
    }
   }
  },
  {
   "cell_type": "code",
   "execution_count": 6,
   "outputs": [
    {
     "data": {
      "text/plain": "14        81.093\n15        81.096\n16        81.076\n17        81.071\n18        81.086\n           ...  \n199995    87.229\n199996    87.230\n199997    87.228\n199998    87.224\n199999    87.211\nName: Close, Length: 199986, dtype: float64"
     },
     "execution_count": 6,
     "metadata": {},
     "output_type": "execute_result"
    }
   ],
   "source": [
    "working = df['Close']\n",
    "inf = float('nan')\n",
    "df['next'] = [\n",
    "    (working[i:] > high_bar[i]).idxmax + (inf if )\n",
    "    for i in df.index\n",
    "]"
   ],
   "metadata": {
    "collapsed": false,
    "pycharm": {
     "name": "#%%\n"
    }
   }
  },
  {
   "cell_type": "code",
   "execution_count": 19,
   "outputs": [
    {
     "name": "stdout",
     "output_type": "stream",
     "text": [
      "14    81.093\n",
      "15    81.096\n",
      "16    81.076\n",
      "17    81.071\n",
      "18    81.086\n",
      "19    81.088\n",
      "20    81.080\n",
      "21    81.056\n",
      "22    81.060\n",
      "23    81.046\n",
      "24    81.044\n",
      "Name: Close, dtype: float64\n"
     ]
    },
    {
     "data": {
      "text/plain": "14           NaN\n15        81.093\n16           NaN\n17           NaN\n18           NaN\n           ...  \n199995       NaN\n199996       NaN\n199997       NaN\n199998       NaN\n199999       NaN\nName: Open, Length: 199986, dtype: float64"
     },
     "execution_count": 19,
     "metadata": {},
     "output_type": "execute_result"
    }
   ],
   "source": [
    "working = df.loc[:24,'Close']\n",
    "print(working)\n",
    "df['Open'].where(working > working[14])"
   ],
   "metadata": {
    "collapsed": false,
    "pycharm": {
     "name": "#%%\n"
    }
   }
  },
  {
   "cell_type": "code",
   "execution_count": 22,
   "outputs": [
    {
     "name": "stdout",
     "output_type": "stream",
     "text": [
      "\"CADJPY_M1.csv\", \"CADJPY_M15.csv\", \"CADJPY_M30.csv\", \"CADJPY_M5.csv\", \"USDCAD_M1.csv\", \"USDCAD_M15.csv\", \"USDCAD_M30.csv\", \"USDCAD_M5.csv\", \"USDCHF_M1.csv\", \"USDCHF_M15.csv\", \"USDCHF_M30.csv\", \"USDCHF_M5.csv\"\n"
     ]
    }
   ],
   "source": [
    "print(\", \".join([f\"\\\"{i}\\\"\" for i in os.listdir(\"./Data\")]))\n"
   ],
   "metadata": {
    "collapsed": false,
    "pycharm": {
     "name": "#%%\n"
    }
   }
  }
 ],
 "metadata": {
  "kernelspec": {
   "display_name": "Python 3",
   "language": "python",
   "name": "python3"
  },
  "language_info": {
   "codemirror_mode": {
    "name": "ipython",
    "version": 2
   },
   "file_extension": ".py",
   "mimetype": "text/x-python",
   "name": "python",
   "nbconvert_exporter": "python",
   "pygments_lexer": "ipython2",
   "version": "2.7.6"
  }
 },
 "nbformat": 4,
 "nbformat_minor": 0
}