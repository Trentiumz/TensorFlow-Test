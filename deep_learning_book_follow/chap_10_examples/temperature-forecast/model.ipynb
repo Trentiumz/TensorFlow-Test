{
 "cells": [
  {
   "cell_type": "markdown",
   "source": [
    "# Timeseries Data, predicting weather 24 hours from now\n",
    "- Data comes from https://s3.amazonaws.com/keras-datasets/jena_climate_2009_2016.csv.zip\n",
    "- We start with a Dense network, then a convnet, and finally an RNN"
   ],
   "metadata": {
    "collapsed": false,
    "pycharm": {
     "name": "#%% md\n"
    }
   }
  },
  {
   "cell_type": "markdown",
   "source": [
    "Start with gathering some data and a common-sense baseline"
   ],
   "metadata": {
    "collapsed": false,
    "pycharm": {
     "name": "#%% md\n"
    }
   }
  },
  {
   "cell_type": "code",
   "execution_count": 1,
   "outputs": [],
   "source": [
    "import os\n",
    "import numpy as np\n",
    "import tensorflow as tf\n",
    "from tensorflow import keras\n",
    "from keras import layers\n",
    "import matplotlib.pyplot as plt"
   ],
   "metadata": {
    "collapsed": false,
    "pycharm": {
     "name": "#%%\n"
    }
   }
  },
  {
   "cell_type": "code",
   "execution_count": 2,
   "outputs": [],
   "source": [
    "# load in data\n",
    "fname = os.path.join(\"jena_climate_2009_2016.csv/jena_climate_2009_2016.csv\")\n",
    "with open(fname) as f:\n",
    "    data = f.read()\n",
    "lines = data.split('\\n')\n",
    "header = lines[0].split(',')\n",
    "lines = lines[1:]"
   ],
   "metadata": {
    "collapsed": false,
    "pycharm": {
     "name": "#%%\n"
    }
   }
  },
  {
   "cell_type": "code",
   "execution_count": 3,
   "outputs": [
    {
     "name": "stdout",
     "output_type": "stream",
     "text": [
      "210225 105112 105114\n"
     ]
    }
   ],
   "source": [
    "# quantify data\n",
    "temperature = np.zeros((len(lines),))\n",
    "raw_data = np.zeros((len(lines), len(header) - 1))\n",
    "for i, line in enumerate(lines):\n",
    "    values = list(map(float, line.split(\",\")[1:]))\n",
    "    temperature[i] = values[1]\n",
    "    raw_data[i,:] = values\n",
    "\n",
    "# split data\n",
    "num_train = int(len(raw_data) // 2)\n",
    "num_val = int(len(raw_data) // 4)\n",
    "num_test = len(raw_data) - num_train - num_val\n",
    "print(num_train, num_val, num_test)\n",
    "\n",
    "# normalize data\n",
    "mean = raw_data[:num_train].mean(axis=0)\n",
    "raw_data -= mean\n",
    "std = raw_data[:num_train].std(axis=0)\n",
    "raw_data /= std"
   ],
   "metadata": {
    "collapsed": false,
    "pycharm": {
     "name": "#%%\n"
    }
   }
  },
  {
   "cell_type": "code",
   "execution_count": 4,
   "outputs": [],
   "source": [
    "# declare constants\n",
    "sampling_rate = 6 # the \"skip\" for each data point - the sequence will have data at 1-hour intervals\n",
    "sequence_length = 120 # the length of the sequence (5 days' worth=120 hours' worth)\n",
    "delay = sampling_rate * (sequence_length + 24 - 1) # we'll start 24 hours after the start (notice that the last index is index sequence_length - 1)\n",
    "batch_size = 256\n",
    "\n",
    "train_dataset = keras.utils.timeseries_dataset_from_array(\n",
    "    raw_data[:-delay],\n",
    "    targets=temperature[delay:],\n",
    "    sampling_rate=sampling_rate,\n",
    "    sequence_length=sequence_length,\n",
    "    shuffle=True,\n",
    "    batch_size=batch_size,\n",
    "    start_index=0,\n",
    "    end_index=num_train\n",
    ")\n",
    "val_dataset = keras.utils.timeseries_dataset_from_array(\n",
    "    raw_data[:-delay],\n",
    "    targets=temperature[delay:],\n",
    "    sampling_rate=sampling_rate,\n",
    "    sequence_length=sequence_length,\n",
    "    shuffle=True,\n",
    "    batch_size=batch_size,\n",
    "    start_index=num_train,\n",
    "    end_index=num_train + num_val\n",
    ")\n",
    "test_dataset = keras.utils.timeseries_dataset_from_array(\n",
    "    raw_data[:-delay],\n",
    "    targets=temperature[delay:],\n",
    "    sampling_rate=sampling_rate,\n",
    "    sequence_length=sequence_length,\n",
    "    shuffle=True,\n",
    "    batch_size=batch_size,\n",
    "    start_index=num_train + num_val\n",
    ")"
   ],
   "metadata": {
    "collapsed": false,
    "pycharm": {
     "name": "#%%\n"
    }
   }
  },
  {
   "cell_type": "code",
   "execution_count": 5,
   "outputs": [
    {
     "name": "stdout",
     "output_type": "stream",
     "text": [
      "sample shape: (256, 120, 14)\n",
      "target shape: (256,)\n"
     ]
    }
   ],
   "source": [
    "for samples, targets in train_dataset:\n",
    "    print(f\"sample shape: {samples.shape}\")\n",
    "    print(f\"target shape: {targets.shape}\")\n",
    "    break"
   ],
   "metadata": {
    "collapsed": false,
    "pycharm": {
     "name": "#%%\n"
    }
   }
  },
  {
   "cell_type": "code",
   "execution_count": null,
   "outputs": [],
   "source": [
    "# common-sense baseline\n",
    "def evaluate_naive_method(dataset):\n",
    "    total_abs_err = 0\n",
    "    samples_seen = 0\n",
    "    for samples, targets in dataset:\n",
    "        preds = samples[:,-1,1] * std[1] + mean[1]\n",
    "        total_abs_err += np.sum(np.abs(targets - preds))\n",
    "        samples_seen += samples.shape[0]\n",
    "    return total_abs_err / samples_seen\n",
    "\n",
    "print(f\"Validation MAE: {evaluate_naive_method(val_dataset)}\")\n",
    "print(f\"Test MAE: {evaluate_naive_method(test_dataset)}\")"
   ],
   "metadata": {
    "collapsed": false,
    "pycharm": {
     "name": "#%%\n"
    }
   }
  },
  {
   "cell_type": "code",
   "execution_count": 6,
   "outputs": [],
   "source": [
    "# display history losses for MAE\n",
    "def display_loss(history):\n",
    "    # display its performance\n",
    "    loss = history.history[\"mae\"]\n",
    "    val_loss = history.history[\"val_mae\"]\n",
    "    epochs = range(1, len(loss) + 1)\n",
    "    plt.figure()\n",
    "    plt.plot(epochs, loss, \"bo\", label=\"Training MAE\")\n",
    "    plt.plot(epochs, val_loss, \"b\", label=\"Validation MAE\")\n",
    "    plt.legend()\n",
    "    plt.show()"
   ],
   "metadata": {
    "collapsed": false,
    "pycharm": {
     "name": "#%%\n"
    }
   }
  },
  {
   "cell_type": "markdown",
   "source": [
    "### Ok, let's start with a simple Densely connected Layer"
   ],
   "metadata": {
    "collapsed": false,
    "pycharm": {
     "name": "#%% md\n"
    }
   }
  },
  {
   "cell_type": "code",
   "execution_count": null,
   "outputs": [],
   "source": [
    "# simple dense connector\n",
    "\n",
    "# display the model performance\n",
    "inputs = keras.Input(shape=(sequence_length, raw_data.shape[-1]))\n",
    "x = layers.Flatten()(inputs)\n",
    "x = layers.Dense(16, activation=\"relu\")(x)\n",
    "outputs = layers.Dense(1)(x)\n",
    "model = keras.Model(inputs, outputs)\n",
    "\n",
    "callbacks = [ keras.callbacks.ModelCheckpoint(\"jena_dense.keras\", save_best_only=True)]\n",
    "model.compile(optimizer=\"rmsprop\", loss=\"mse\", metrics=[\"mae\"])\n",
    "history = model.fit(train_dataset, epochs=10, validation_data=val_dataset, callbacks=callbacks)\n"
   ],
   "metadata": {
    "collapsed": false,
    "pycharm": {
     "name": "#%%\n"
    }
   }
  },
  {
   "cell_type": "code",
   "execution_count": 65,
   "outputs": [
    {
     "data": {
      "text/plain": "<Figure size 432x288 with 1 Axes>",
      "image/png": "[encoded data removed]"
     },
     "metadata": {
      "needs_background": "light"
     },
     "output_type": "display_data"
    }
   ],
   "source": [
    "# evaluate dense model\n",
    "model = keras.models.load_model(\"jena_dense.keras\")\n",
    "print(f\"Test MAE: {model.evaluate(test_dataset)[1]:.2f}\")\n",
    "\n",
    "display_loss(history)"
   ],
   "metadata": {
    "collapsed": false,
    "pycharm": {
     "name": "#%%\n"
    }
   }
  },
  {
   "cell_type": "markdown",
   "source": [
    "### What about a convolutional neural network?\n",
    "- As it turns out, position is *very* important when it comes to data like this\n",
    "- Dense layers which lose positional information\n",
    "- convolutional layers can't distinguish this information"
   ],
   "metadata": {
    "collapsed": false,
    "pycharm": {
     "name": "#%% md\n"
    }
   }
  },
  {
   "cell_type": "code",
   "execution_count": 0,
   "outputs": [],
   "source": [
    "# convolutional network\n",
    "\n",
    "# the model\n",
    "inputs = keras.Input((sequence_length, raw_data.shape[-1]))\n",
    "x = layers.Conv1D(8, 24, activation=\"relu\")(inputs)\n",
    "x = layers.MaxPooling1D(2)(x)\n",
    "x = layers.Conv1D(8, 12, activation=\"relu\")(x)\n",
    "x = layers.MaxPooling1D(2)(x)\n",
    "x = layers.Conv1D(8, 6, activation=\"relu\")(x)\n",
    "x = layers.GlobalAveragePooling1D()(x)\n",
    "outputs = layers.Dense(1)(x)\n",
    "model = keras.Model(inputs, outputs)\n",
    "\n",
    "callbacks=[keras.callbacks.ModelCheckpoint(filepath=\"jena_conv.keras\", save_best_only=True)]\n",
    "model.compile(optimizer=\"rmsprop\", loss=\"mse\", metrics=[\"mae\"])\n",
    "history = model.fit(train_dataset, epochs=10, validation_data=val_dataset, callbacks=callbacks)"
   ],
   "metadata": {
    "collapsed": false,
    "pycharm": {
     "name": "#%%\n"
    }
   }
  },
  {
   "cell_type": "code",
   "execution_count": 71,
   "outputs": [
    {
     "name": "stdout",
     "output_type": "stream",
     "text": [
      "405/405 [==============================] - 6s 14ms/step - loss: 16.8229 - mae: 3.2256\n",
      "Test MAE: 3.23\n"
     ]
    },
    {
     "data": {
      "text/plain": "<Figure size 432x288 with 1 Axes>",
      "image/png": "[encoded data removed]"
     },
     "metadata": {
      "needs_background": "light"
     },
     "output_type": "display_data"
    }
   ],
   "source": [
    "model = keras.models.load_model(\"jena_conv.keras\")\n",
    "print(f\"Test MAE: {model.evaluate(test_dataset)[1]:.2f}\")\n",
    "\n",
    "display_loss(history)"
   ],
   "metadata": {
    "collapsed": false,
    "pycharm": {
     "name": "#%%\n"
    }
   }
  },
  {
   "cell_type": "markdown",
   "source": [
    "### The answer? Recurrent models!"
   ],
   "metadata": {
    "collapsed": false,
    "pycharm": {
     "name": "#%% md\n"
    }
   }
  },
  {
   "cell_type": "code",
   "execution_count": null,
   "outputs": [],
   "source": [
    "# recurrent LSTM-based model\n",
    "inputs = keras.Input(shape=(sequence_length, raw_data.shape[-1]))\n",
    "x = layers.LSTM(16)(inputs)\n",
    "outputs = layers.Dense(1)(x)\n",
    "model = keras.Model(inputs, outputs)\n",
    "\n",
    "model.summary()\n",
    "callbacks = [keras.callbacks.ModelCheckpoint(filepath=\"jena_lstm.keras\", save_best_only=True)]\n",
    "model.compile(optimizer=\"rmsprop\", loss=\"mse\", metrics=[\"mae\"])\n",
    "history = model.fit(train_dataset, epochs=10, validation_data=val_dataset, callbacks=callbacks)\n",
    "\n",
    "display_loss(history)"
   ],
   "metadata": {
    "collapsed": false,
    "pycharm": {
     "name": "#%%\n"
    }
   }
  },
  {
   "cell_type": "code",
   "execution_count": 79,
   "outputs": [
    {
     "name": "stdout",
     "output_type": "stream",
     "text": [
      "405/405 [==============================] - 10s 22ms/step - loss: 10.6213 - mae: 2.5370\n",
      "Test MAE: 2.54\n"
     ]
    }
   ],
   "source": [
    "# evaluate the model\n",
    "model = keras.models.load_model(\"jena_lstm.keras\")\n",
    "print(f\"Test MAE: {model.evaluate(test_dataset)[1]:.2f}\")"
   ],
   "metadata": {
    "collapsed": false,
    "pycharm": {
     "name": "#%%\n"
    }
   }
  },
  {
   "cell_type": "markdown",
   "source": [
    "### Well, we know a lot of regularization, so let's add some dropout and expand our model!"
   ],
   "metadata": {
    "collapsed": false,
    "pycharm": {
     "name": "#%% md\n"
    }
   }
  },
  {
   "cell_type": "code",
   "execution_count": 8,
   "outputs": [
    {
     "name": "stdout",
     "output_type": "stream",
     "text": [
      "Epoch 1/50\n",
      "819/819 [==============================] - 117s 94ms/step - loss: 30.0621 - mae: 4.0330 - val_loss: 9.7759 - val_mae: 2.4275\n",
      "Epoch 2/50\n",
      "819/819 [==============================] - 70s 85ms/step - loss: 15.1068 - mae: 3.0227 - val_loss: 9.4747 - val_mae: 2.3979\n",
      "Epoch 3/50\n",
      "819/819 [==============================] - 70s 85ms/step - loss: 14.4938 - mae: 2.9527 - val_loss: 9.1929 - val_mae: 2.3665\n",
      "Epoch 4/50\n",
      "819/819 [==============================] - 70s 85ms/step - loss: 14.0484 - mae: 2.9059 - val_loss: 9.1825 - val_mae: 2.3506\n",
      "Epoch 5/50\n",
      "819/819 [==============================] - 68s 83ms/step - loss: 13.6666 - mae: 2.8698 - val_loss: 9.0293 - val_mae: 2.3291\n",
      "Epoch 6/50\n",
      "819/819 [==============================] - 72s 88ms/step - loss: 13.3575 - mae: 2.8346 - val_loss: 8.9491 - val_mae: 2.3152\n",
      "Epoch 7/50\n",
      "819/819 [==============================] - 66s 81ms/step - loss: 13.1487 - mae: 2.8127 - val_loss: 8.9935 - val_mae: 2.3185\n",
      "Epoch 8/50\n",
      "819/819 [==============================] - 67s 81ms/step - loss: 12.8836 - mae: 2.7819 - val_loss: 8.9171 - val_mae: 2.3217\n",
      "Epoch 9/50\n",
      "819/819 [==============================] - 70s 86ms/step - loss: 12.5966 - mae: 2.7565 - val_loss: 8.7563 - val_mae: 2.2931\n",
      "Epoch 10/50\n",
      "819/819 [==============================] - 68s 83ms/step - loss: 12.3578 - mae: 2.7317 - val_loss: 8.6226 - val_mae: 2.2720\n",
      "Epoch 11/50\n",
      "819/819 [==============================] - 67s 82ms/step - loss: 12.2255 - mae: 2.7132 - val_loss: 8.8103 - val_mae: 2.2881\n",
      "Epoch 12/50\n",
      "819/819 [==============================] - 69s 84ms/step - loss: 12.0526 - mae: 2.6982 - val_loss: 8.7882 - val_mae: 2.2858\n",
      "Epoch 13/50\n",
      "819/819 [==============================] - 68s 83ms/step - loss: 11.8902 - mae: 2.6818 - val_loss: 8.8743 - val_mae: 2.2971\n",
      "Epoch 14/50\n",
      "819/819 [==============================] - 69s 85ms/step - loss: 11.7577 - mae: 2.6697 - val_loss: 8.6368 - val_mae: 2.2729\n",
      "Epoch 15/50\n",
      "819/819 [==============================] - 69s 84ms/step - loss: 11.7031 - mae: 2.6657 - val_loss: 8.6801 - val_mae: 2.2769\n",
      "Epoch 16/50\n",
      "819/819 [==============================] - 70s 85ms/step - loss: 11.5093 - mae: 2.6415 - val_loss: 8.7841 - val_mae: 2.2892\n",
      "Epoch 17/50\n",
      "819/819 [==============================] - 67s 82ms/step - loss: 11.4600 - mae: 2.6350 - val_loss: 8.6115 - val_mae: 2.2756\n",
      "Epoch 18/50\n",
      "819/819 [==============================] - 69s 85ms/step - loss: 11.3797 - mae: 2.6300 - val_loss: 8.7171 - val_mae: 2.2784\n",
      "Epoch 19/50\n",
      "819/819 [==============================] - 70s 85ms/step - loss: 11.3180 - mae: 2.6169 - val_loss: 8.8265 - val_mae: 2.2953\n",
      "Epoch 20/50\n",
      "819/819 [==============================] - 66s 81ms/step - loss: 11.2825 - mae: 2.6140 - val_loss: 8.7248 - val_mae: 2.2806\n",
      "Epoch 21/50\n",
      "819/819 [==============================] - 66s 80ms/step - loss: 11.2011 - mae: 2.6035 - val_loss: 8.7558 - val_mae: 2.2924\n",
      "Epoch 22/50\n",
      "819/819 [==============================] - 65s 79ms/step - loss: 11.1686 - mae: 2.5987 - val_loss: 8.8847 - val_mae: 2.3043\n",
      "Epoch 23/50\n",
      "819/819 [==============================] - 65s 79ms/step - loss: 11.1096 - mae: 2.5913 - val_loss: 8.8118 - val_mae: 2.2926\n",
      "Epoch 24/50\n",
      "819/819 [==============================] - 67s 82ms/step - loss: 11.0326 - mae: 2.5845 - val_loss: 8.9202 - val_mae: 2.3046\n",
      "Epoch 25/50\n",
      "819/819 [==============================] - 65s 79ms/step - loss: 10.9706 - mae: 2.5769 - val_loss: 8.6999 - val_mae: 2.2800\n",
      "Epoch 26/50\n",
      "819/819 [==============================] - 65s 80ms/step - loss: 10.9401 - mae: 2.5735 - val_loss: 9.1021 - val_mae: 2.3276\n",
      "Epoch 27/50\n",
      "819/819 [==============================] - 65s 79ms/step - loss: 10.9472 - mae: 2.5743 - val_loss: 8.9208 - val_mae: 2.3034\n",
      "Epoch 28/50\n",
      "819/819 [==============================] - 65s 80ms/step - loss: 10.9034 - mae: 2.5688 - val_loss: 8.9546 - val_mae: 2.3088\n",
      "Epoch 29/50\n",
      "819/819 [==============================] - 66s 80ms/step - loss: 10.8589 - mae: 2.5667 - val_loss: 9.0397 - val_mae: 2.3252\n",
      "Epoch 30/50\n",
      "819/819 [==============================] - 66s 80ms/step - loss: 10.8480 - mae: 2.5640 - val_loss: 8.9627 - val_mae: 2.3087\n",
      "Epoch 31/50\n",
      "819/819 [==============================] - 66s 80ms/step - loss: 10.7800 - mae: 2.5568 - val_loss: 8.9279 - val_mae: 2.3051\n",
      "Epoch 32/50\n",
      "819/819 [==============================] - 66s 80ms/step - loss: 10.6994 - mae: 2.5466 - val_loss: 9.0584 - val_mae: 2.3221\n",
      "Epoch 33/50\n",
      "819/819 [==============================] - 65s 80ms/step - loss: 10.7517 - mae: 2.5458 - val_loss: 8.8603 - val_mae: 2.3064\n",
      "Epoch 34/50\n",
      "819/819 [==============================] - 65s 80ms/step - loss: 10.7227 - mae: 2.5468 - val_loss: 8.9920 - val_mae: 2.3134\n",
      "Epoch 35/50\n",
      "819/819 [==============================] - 65s 79ms/step - loss: 10.6751 - mae: 2.5427 - val_loss: 9.0574 - val_mae: 2.3171\n",
      "Epoch 36/50\n",
      "819/819 [==============================] - 65s 80ms/step - loss: 10.6297 - mae: 2.5383 - val_loss: 9.0649 - val_mae: 2.3242\n",
      "Epoch 37/50\n",
      "819/819 [==============================] - 66s 80ms/step - loss: 10.6112 - mae: 2.5333 - val_loss: 8.9816 - val_mae: 2.3163\n",
      "Epoch 38/50\n",
      "819/819 [==============================] - 65s 79ms/step - loss: 10.6631 - mae: 2.5381 - val_loss: 9.0355 - val_mae: 2.3196\n",
      "Epoch 39/50\n",
      "819/819 [==============================] - 64s 78ms/step - loss: 10.5712 - mae: 2.5321 - val_loss: 8.9588 - val_mae: 2.3097\n",
      "Epoch 40/50\n",
      "819/819 [==============================] - 65s 80ms/step - loss: 10.5453 - mae: 2.5291 - val_loss: 9.0818 - val_mae: 2.3234\n",
      "Epoch 41/50\n",
      "819/819 [==============================] - 64s 78ms/step - loss: 10.5561 - mae: 2.5284 - val_loss: 9.0100 - val_mae: 2.3132\n",
      "Epoch 42/50\n",
      "819/819 [==============================] - 64s 78ms/step - loss: 10.5143 - mae: 2.5211 - val_loss: 9.2621 - val_mae: 2.3438\n",
      "Epoch 43/50\n",
      "819/819 [==============================] - 64s 78ms/step - loss: 10.4422 - mae: 2.5153 - val_loss: 9.1820 - val_mae: 2.3342\n",
      "Epoch 44/50\n",
      "819/819 [==============================] - 64s 78ms/step - loss: 10.4823 - mae: 2.5209 - val_loss: 9.1180 - val_mae: 2.3294\n",
      "Epoch 45/50\n",
      "819/819 [==============================] - 63s 77ms/step - loss: 10.4415 - mae: 2.5137 - val_loss: 9.1456 - val_mae: 2.3338\n",
      "Epoch 46/50\n",
      "819/819 [==============================] - 63s 77ms/step - loss: 10.4313 - mae: 2.5141 - val_loss: 9.1518 - val_mae: 2.3381\n",
      "Epoch 47/50\n",
      "819/819 [==============================] - 63s 77ms/step - loss: 10.4451 - mae: 2.5133 - val_loss: 8.9581 - val_mae: 2.3125\n",
      "Epoch 48/50\n",
      "819/819 [==============================] - 63s 77ms/step - loss: 10.4277 - mae: 2.5142 - val_loss: 9.2103 - val_mae: 2.3414\n",
      "Epoch 49/50\n",
      "819/819 [==============================] - 63s 77ms/step - loss: 10.3645 - mae: 2.5054 - val_loss: 9.1062 - val_mae: 2.3311\n",
      "Epoch 50/50\n",
      "819/819 [==============================] - 63s 77ms/step - loss: 10.3700 - mae: 2.5054 - val_loss: 9.2178 - val_mae: 2.3448\n"
     ]
    },
    {
     "data": {
      "text/plain": "<Figure size 432x288 with 1 Axes>",
      "image/png": "[encoded data removed]"
     },
     "metadata": {
      "needs_background": "light"
     },
     "output_type": "display_data"
    }
   ],
   "source": [
    "# A bigger model\n",
    "inputs = keras.Input(shape=(sequence_length, raw_data.shape[-1]))\n",
    "x = layers.LSTM(32, recurrent_dropout=0.25, unroll=True)(inputs)\n",
    "x = layers.Dropout(0.5)(x)\n",
    "outputs = layers.Dense(1)(x)\n",
    "model = keras.Model(inputs, outputs)\n",
    "\n",
    "callbacks=[keras.callbacks.ModelCheckpoint(filepath=\"jena_lstm_dropout.keras\", save_best_only=True)]\n",
    "model.compile(optimizer=\"rmsprop\", loss=\"mse\", metrics=[\"mae\"])\n",
    "history = model.fit(train_dataset, epochs=50, validation_data=val_dataset, callbacks=callbacks)\n",
    "\n",
    "display_loss(history)"
   ],
   "metadata": {
    "collapsed": false,
    "pycharm": {
     "name": "#%%\n"
    }
   }
  },
  {
   "cell_type": "code",
   "execution_count": 9,
   "outputs": [
    {
     "name": "stdout",
     "output_type": "stream",
     "text": [
      "405/405 [==============================] - 16s 22ms/step - loss: 9.8314 - mae: 2.4786\n",
      "Test MAE: 2.4786181449890137:.2f\n"
     ]
    }
   ],
   "source": [
    "model = keras.models.load_model(\"jena_lstm_dropout.keras\")\n",
    "print(f\"Test MAE: {model.evaluate(test_dataset)[1]}:.2f\")"
   ],
   "metadata": {
    "collapsed": false,
    "pycharm": {
     "name": "#%%\n"
    }
   }
  },
  {
   "cell_type": "markdown",
   "source": [
    "### Stacking layers"
   ],
   "metadata": {
    "collapsed": false,
    "pycharm": {
     "name": "#%% md\n"
    }
   }
  },
  {
   "cell_type": "code",
   "execution_count": 11,
   "outputs": [
    {
     "name": "stdout",
     "output_type": "stream",
     "text": [
      "Epoch 1/50\n",
      "819/819 [==============================] - 233s 163ms/step - loss: 27.9496 - mae: 3.8876 - val_loss: 9.4976 - val_mae: 2.3731\n",
      "Epoch 2/50\n",
      "819/819 [==============================] - 118s 144ms/step - loss: 14.2584 - mae: 2.9248 - val_loss: 9.0448 - val_mae: 2.3299\n",
      "Epoch 3/50\n",
      "819/819 [==============================] - 118s 144ms/step - loss: 13.5354 - mae: 2.8531 - val_loss: 9.0625 - val_mae: 2.3412\n",
      "Epoch 4/50\n",
      "819/819 [==============================] - 120s 146ms/step - loss: 13.0306 - mae: 2.7988 - val_loss: 9.2525 - val_mae: 2.3701\n",
      "Epoch 5/50\n",
      "819/819 [==============================] - 118s 144ms/step - loss: 12.6197 - mae: 2.7555 - val_loss: 8.5650 - val_mae: 2.2685\n",
      "Epoch 6/50\n",
      "819/819 [==============================] - 117s 143ms/step - loss: 12.2716 - mae: 2.7213 - val_loss: 8.2869 - val_mae: 2.2308\n",
      "Epoch 7/50\n",
      "819/819 [==============================] - 112s 137ms/step - loss: 11.9790 - mae: 2.6863 - val_loss: 8.8135 - val_mae: 2.3131\n",
      "Epoch 8/50\n",
      "819/819 [==============================] - 112s 137ms/step - loss: 11.7069 - mae: 2.6583 - val_loss: 8.3192 - val_mae: 2.2356\n",
      "Epoch 9/50\n",
      "819/819 [==============================] - 112s 137ms/step - loss: 11.4295 - mae: 2.6256 - val_loss: 8.6307 - val_mae: 2.2819\n",
      "Epoch 10/50\n",
      "819/819 [==============================] - 112s 137ms/step - loss: 11.2558 - mae: 2.6061 - val_loss: 8.4788 - val_mae: 2.2650\n",
      "Epoch 11/50\n",
      "819/819 [==============================] - 112s 137ms/step - loss: 11.0842 - mae: 2.5855 - val_loss: 8.5919 - val_mae: 2.2697\n",
      "Epoch 12/50\n",
      "819/819 [==============================] - 112s 137ms/step - loss: 10.9234 - mae: 2.5685 - val_loss: 8.3981 - val_mae: 2.2505\n",
      "Epoch 13/50\n",
      "819/819 [==============================] - 112s 137ms/step - loss: 10.7652 - mae: 2.5498 - val_loss: 9.0414 - val_mae: 2.3459\n",
      "Epoch 14/50\n",
      "819/819 [==============================] - 112s 137ms/step - loss: 10.5536 - mae: 2.5252 - val_loss: 8.6264 - val_mae: 2.2818\n",
      "Epoch 15/50\n",
      "819/819 [==============================] - 111s 136ms/step - loss: 10.4689 - mae: 2.5146 - val_loss: 8.6769 - val_mae: 2.2797\n",
      "Epoch 16/50\n",
      "819/819 [==============================] - 110s 134ms/step - loss: 10.3121 - mae: 2.4971 - val_loss: 8.7852 - val_mae: 2.3073\n",
      "Epoch 17/50\n",
      "819/819 [==============================] - 110s 134ms/step - loss: 10.1970 - mae: 2.4827 - val_loss: 8.7783 - val_mae: 2.3066\n",
      "Epoch 18/50\n",
      "819/819 [==============================] - 112s 136ms/step - loss: 10.0714 - mae: 2.4651 - val_loss: 8.6263 - val_mae: 2.2762\n",
      "Epoch 19/50\n",
      "819/819 [==============================] - 113s 137ms/step - loss: 9.9955 - mae: 2.4580 - val_loss: 9.0466 - val_mae: 2.3371\n",
      "Epoch 20/50\n",
      "819/819 [==============================] - 114s 140ms/step - loss: 9.9094 - mae: 2.4448 - val_loss: 9.4517 - val_mae: 2.3961\n",
      "Epoch 21/50\n",
      "819/819 [==============================] - 112s 137ms/step - loss: 9.8186 - mae: 2.4378 - val_loss: 8.7429 - val_mae: 2.2950\n",
      "Epoch 22/50\n",
      "819/819 [==============================] - 117s 143ms/step - loss: 9.7251 - mae: 2.4270 - val_loss: 8.8367 - val_mae: 2.3096\n",
      "Epoch 23/50\n",
      "819/819 [==============================] - 113s 138ms/step - loss: 9.6812 - mae: 2.4197 - val_loss: 8.8513 - val_mae: 2.3177\n",
      "Epoch 24/50\n",
      "819/819 [==============================] - 115s 140ms/step - loss: 9.6118 - mae: 2.4117 - val_loss: 8.8655 - val_mae: 2.3084\n",
      "Epoch 25/50\n",
      "819/819 [==============================] - 113s 138ms/step - loss: 9.5278 - mae: 2.4035 - val_loss: 9.1994 - val_mae: 2.3503\n",
      "Epoch 26/50\n",
      "819/819 [==============================] - 115s 141ms/step - loss: 9.5048 - mae: 2.3989 - val_loss: 9.1583 - val_mae: 2.3490\n",
      "Epoch 27/50\n",
      "819/819 [==============================] - 114s 140ms/step - loss: 9.4514 - mae: 2.3924 - val_loss: 9.0035 - val_mae: 2.3375\n",
      "Epoch 28/50\n",
      "819/819 [==============================] - 116s 142ms/step - loss: 9.3965 - mae: 2.3854 - val_loss: 9.0523 - val_mae: 2.3422\n",
      "Epoch 29/50\n",
      "819/819 [==============================] - 114s 139ms/step - loss: 9.3200 - mae: 2.3737 - val_loss: 8.8485 - val_mae: 2.3076\n",
      "Epoch 30/50\n",
      "819/819 [==============================] - 113s 138ms/step - loss: 9.3208 - mae: 2.3711 - val_loss: 9.3628 - val_mae: 2.3760\n",
      "Epoch 31/50\n",
      "819/819 [==============================] - 114s 140ms/step - loss: 9.1916 - mae: 2.3586 - val_loss: 9.0979 - val_mae: 2.3357\n",
      "Epoch 32/50\n",
      "819/819 [==============================] - 114s 139ms/step - loss: 9.1866 - mae: 2.3612 - val_loss: 9.0671 - val_mae: 2.3337\n",
      "Epoch 33/50\n",
      "819/819 [==============================] - 113s 138ms/step - loss: 9.1686 - mae: 2.3561 - val_loss: 9.3768 - val_mae: 2.3810\n",
      "Epoch 34/50\n",
      "819/819 [==============================] - 113s 138ms/step - loss: 9.0997 - mae: 2.3496 - val_loss: 9.1898 - val_mae: 2.3531\n",
      "Epoch 35/50\n",
      "819/819 [==============================] - 114s 139ms/step - loss: 9.0901 - mae: 2.3458 - val_loss: 9.3284 - val_mae: 2.3718\n",
      "Epoch 36/50\n",
      "819/819 [==============================] - 116s 141ms/step - loss: 9.0202 - mae: 2.3386 - val_loss: 9.2596 - val_mae: 2.3532\n",
      "Epoch 37/50\n",
      "819/819 [==============================] - 113s 138ms/step - loss: 8.9800 - mae: 2.3328 - val_loss: 9.1915 - val_mae: 2.3471\n",
      "Epoch 38/50\n",
      "819/819 [==============================] - 113s 138ms/step - loss: 8.9677 - mae: 2.3313 - val_loss: 9.4644 - val_mae: 2.3805\n",
      "Epoch 39/50\n",
      "819/819 [==============================] - 112s 137ms/step - loss: 8.9055 - mae: 2.3205 - val_loss: 9.2931 - val_mae: 2.3615\n",
      "Epoch 40/50\n",
      "819/819 [==============================] - 111s 136ms/step - loss: 8.8728 - mae: 2.3178 - val_loss: 9.0976 - val_mae: 2.3334\n",
      "Epoch 41/50\n",
      "819/819 [==============================] - 114s 140ms/step - loss: 8.8340 - mae: 2.3123 - val_loss: 9.4198 - val_mae: 2.3822\n",
      "Epoch 42/50\n",
      "819/819 [==============================] - 116s 141ms/step - loss: 8.7846 - mae: 2.3109 - val_loss: 9.2428 - val_mae: 2.3489\n",
      "Epoch 43/50\n",
      "819/819 [==============================] - 114s 139ms/step - loss: 8.8041 - mae: 2.3123 - val_loss: 9.5176 - val_mae: 2.3842\n",
      "Epoch 44/50\n",
      "819/819 [==============================] - 109s 133ms/step - loss: 8.7517 - mae: 2.3047 - val_loss: 9.2973 - val_mae: 2.3573\n",
      "Epoch 45/50\n",
      "819/819 [==============================] - 86s 106ms/step - loss: 8.7180 - mae: 2.2985 - val_loss: 9.6478 - val_mae: 2.3958\n",
      "Epoch 46/50\n",
      "819/819 [==============================] - 87s 106ms/step - loss: 8.7416 - mae: 2.3017 - val_loss: 9.6673 - val_mae: 2.4082\n",
      "Epoch 47/50\n",
      "819/819 [==============================] - 87s 106ms/step - loss: 8.6700 - mae: 2.2931 - val_loss: 10.1731 - val_mae: 2.4731\n",
      "Epoch 48/50\n",
      "819/819 [==============================] - 86s 105ms/step - loss: 8.6313 - mae: 2.2872 - val_loss: 9.6544 - val_mae: 2.4126\n",
      "Epoch 49/50\n",
      "819/819 [==============================] - 86s 105ms/step - loss: 8.6276 - mae: 2.2865 - val_loss: 9.5439 - val_mae: 2.3921\n",
      "Epoch 50/50\n",
      "819/819 [==============================] - 86s 105ms/step - loss: 8.5559 - mae: 2.2765 - val_loss: 9.7334 - val_mae: 2.4074\n"
     ]
    },
    {
     "data": {
      "text/plain": "<Figure size 432x288 with 1 Axes>",
      "image/png": "[encoded data removed]"
     },
     "metadata": {
      "needs_background": "light"
     },
     "output_type": "display_data"
    }
   ],
   "source": [
    "# stacked recurrent layer\n",
    "inputs = keras.Input(shape=(sequence_length, raw_data.shape[-1]))\n",
    "x = layers.GRU(32, recurrent_dropout=0.5, return_sequences=True, unroll=True)(inputs)\n",
    "x = layers.GRU(32, recurrent_dropout=0.5, unroll=True)(x)\n",
    "x = layers.Dropout(0.5)(x)\n",
    "outputs = layers.Dense(1)(x)\n",
    "model = keras.Model(inputs, outputs)\n",
    "\n",
    "model.compile(optimizer=\"rmsprop\", loss=\"mse\", metrics=[\"mae\"])\n",
    "callbacks = [keras.callbacks.ModelCheckpoint(filepath=\"jena_stacked_gru_dropout.keras\", save_best_only=True)]\n",
    "history = model.fit(train_dataset, epochs=50, validation_data=val_dataset, callbacks=callbacks)\n",
    "display_loss(history)"
   ],
   "metadata": {
    "collapsed": false,
    "pycharm": {
     "name": "#%%\n"
    }
   }
  },
  {
   "cell_type": "markdown",
   "source": [
    "### Bidirectional RNN"
   ],
   "metadata": {
    "collapsed": false,
    "pycharm": {
     "name": "#%% md\n"
    }
   }
  },
  {
   "cell_type": "code",
   "execution_count": 14,
   "outputs": [
    {
     "name": "stdout",
     "output_type": "stream",
     "text": [
      "Epoch 1/10\n",
      "819/819 [==============================] - 48s 53ms/step - loss: 27.6160 - mae: 3.7907 - val_loss: 10.6145 - val_mae: 2.5000\n",
      "Epoch 2/10\n",
      "819/819 [==============================] - 43s 53ms/step - loss: 9.4638 - mae: 2.4048 - val_loss: 9.6752 - val_mae: 2.4097\n",
      "Epoch 3/10\n",
      "819/819 [==============================] - 42s 52ms/step - loss: 8.4073 - mae: 2.2562 - val_loss: 9.8993 - val_mae: 2.4314\n",
      "Epoch 4/10\n",
      "819/819 [==============================] - 43s 52ms/step - loss: 7.8549 - mae: 2.1794 - val_loss: 9.6817 - val_mae: 2.4208\n",
      "Epoch 5/10\n",
      "819/819 [==============================] - 43s 53ms/step - loss: 7.5478 - mae: 2.1361 - val_loss: 10.2363 - val_mae: 2.4856\n",
      "Epoch 6/10\n",
      "819/819 [==============================] - 47s 57ms/step - loss: 7.3069 - mae: 2.1013 - val_loss: 10.3534 - val_mae: 2.5059\n",
      "Epoch 7/10\n",
      "819/819 [==============================] - 45s 55ms/step - loss: 7.0721 - mae: 2.0659 - val_loss: 9.9619 - val_mae: 2.4584\n",
      "Epoch 8/10\n",
      "819/819 [==============================] - 41s 50ms/step - loss: 6.8853 - mae: 2.0382 - val_loss: 10.7247 - val_mae: 2.5363\n",
      "Epoch 9/10\n",
      "819/819 [==============================] - 41s 51ms/step - loss: 6.6647 - mae: 2.0057 - val_loss: 10.7309 - val_mae: 2.5432\n",
      "Epoch 10/10\n",
      "819/819 [==============================] - 42s 51ms/step - loss: 6.4981 - mae: 1.9788 - val_loss: 10.7596 - val_mae: 2.5409\n"
     ]
    },
    {
     "data": {
      "text/plain": "<Figure size 432x288 with 1 Axes>",
      "image/png": "[encoded data removed]"
     },
     "metadata": {
      "needs_background": "light"
     },
     "output_type": "display_data"
    }
   ],
   "source": [
    "inputs = keras.Input(shape=(sequence_length, raw_data.shape[-1]))\n",
    "x = layers.Bidirectional(layers.LSTM(16))(inputs)\n",
    "outputs = layers.Dense(1)(x)\n",
    "model = keras.Model(inputs, outputs)\n",
    "model.compile(optimizer=\"rmsprop\", loss=\"mse\", metrics=[\"mae\"])\n",
    "history = model.fit(train_dataset, epochs=10, validation_data=val_dataset)\n",
    "\n",
    "display_loss(history)"
   ],
   "metadata": {
    "collapsed": false,
    "pycharm": {
     "name": "#%%\n"
    }
   }
  }
 ],
 "metadata": {
  "kernelspec": {
   "display_name": "Python 3",
   "language": "python",
   "name": "python3"
  },
  "language_info": {
   "codemirror_mode": {
    "name": "ipython",
    "version": 2
   },
   "file_extension": ".py",
   "mimetype": "text/x-python",
   "name": "python",
   "nbconvert_exporter": "python",
   "pygments_lexer": "ipython2",
   "version": "2.7.6"
  }
 },
 "nbformat": 4,
 "nbformat_minor": 0
}