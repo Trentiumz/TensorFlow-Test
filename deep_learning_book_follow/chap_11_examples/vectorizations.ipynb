{
 "cells": [
  {
   "cell_type": "markdown",
   "source": [
    "# Vectorizations\n",
    "\n",
    "This notebook will be used to perform some vectorization experiments - and to practice my coding skills :)\n",
    "\n",
    "### Table of Contents\n",
    "\n",
    "- Standalone vectorization\n",
    "    - independent, uses pure python\n",
    "    - standardizes into lowercase and removes punctuation\n",
    "    - splits by space\n",
    "    - makes vocabulary takes in multiple strings\n",
    "    - returns integer sequences\n",
    "- TextVectorization Layer\n",
    "    - Faster, more efficient, and integrated into tensorflow's data pipeline and keras model\n",
    "    - You can give custom behavior (though the default is standardize=lowercase, remove punctuation; tokenize=whitespace)\n",
    "        - Remember that it uses tf.strings!\n",
    "    - its adapt method indexes the vocabulary of a list of sentences; get_vocabulary() to get the vocabulary"
   ],
   "metadata": {
    "collapsed": false,
    "pycharm": {
     "name": "#%% md\n"
    }
   }
  },
  {
   "cell_type": "code",
   "execution_count": 13,
   "outputs": [],
   "source": [
    "# imports\n",
    "import string\n",
    "import re\n",
    "import tensorflow as tf\n",
    "from tensorflow import keras\n",
    "from keras import layers"
   ],
   "metadata": {
    "collapsed": false,
    "pycharm": {
     "name": "#%%\n"
    }
   }
  },
  {
   "cell_type": "markdown",
   "source": [
    "### Standalone Vectorizer"
   ],
   "metadata": {
    "collapsed": false,
    "pycharm": {
     "name": "#%% md\n"
    }
   }
  },
  {
   "cell_type": "code",
   "execution_count": 4,
   "outputs": [
    {
     "name": "stdout",
     "output_type": "stream",
     "text": [
      "Vocabulary: {'': 0, '[UNK]': 1, 'i': 2, 'write': 3, 'erase': 4, 'rewrite': 5, 'again': 6, 'and': 7, 'then': 8, 'a': 9, 'poppy': 10, 'blooms': 11}\n",
      "Encoded sentence [2, 3, 5, 7, 1, 5, 6]\n",
      "Decoded sentence: i write rewrite and [UNK] rewrite again\n"
     ]
    }
   ],
   "source": [
    "# standalone vectorizer\n",
    "class StandaloneVectorizer:\n",
    "\n",
    "    def __init__(self, dictionary):\n",
    "        \"\"\"The initializer for the Standalone Vectorizer, initializing the vocabular and inverse vocabulary dictionary\"\"\"\n",
    "        self.vocab = {}\n",
    "        self.inverse_vocab = {}\n",
    "        self.make_vocabulary(dictionary)\n",
    "\n",
    "    @staticmethod\n",
    "    def standardize(text: str) -> str:\n",
    "        \"\"\"Standardizes the text, converting it to lowercase and removing punctuation\"\"\"\n",
    "        text = text.lower()\n",
    "        return \"\".join([i for i in text if i not in string.punctuation])\n",
    "\n",
    "    @staticmethod\n",
    "    def tokenize(text: str) -> list[int]:\n",
    "        \"\"\"Tokenizes the text, stndardizing it and then spliting it by space\"\"\"\n",
    "        text = StandaloneVectorizer.standardize(text)\n",
    "        return text.split()\n",
    "\n",
    "    def make_vocabulary(self, dictionary: list[str]):\n",
    "        \"\"\"Forms the vocabulary, taking each sentence in dictionary, extracting the words, and assigning indices to them\"\"\"\n",
    "        self.vocab = {\"\": 0, \"[UNK]\" : 1}\n",
    "        for i in dictionary:\n",
    "            # loop through each string, extracting tokens\n",
    "            tokens = StandaloneVectorizer.tokenize(i)\n",
    "            for token in tokens:\n",
    "                if token not in self.vocab:\n",
    "                    # add the token to our vocabulary\n",
    "                    self.vocab[token] = len(self.vocab)\n",
    "\n",
    "        # inverse_vocab now takes in an integer and returns the word\n",
    "        self.inverse_vocab = {v: k for k, v in self.vocab.items()}\n",
    "\n",
    "    def encode(self, text: str):\n",
    "        \"\"\"Encodes the text into the integer sequence\"\"\"\n",
    "        tokens = StandaloneVectorizer.tokenize(text)\n",
    "        return [self.vocab.get(token, 1) for token in tokens]\n",
    "\n",
    "    def decode(self, int_sequence: list[int]):\n",
    "        \"\"\"Decodes an integer sequence into its 'word form'\"\"\"\n",
    "        return \" \".join([self.inverse_vocab.get(i, \"[UNK]\") for i in int_sequence])\n",
    "\n",
    "dataset = [\"I write, erase, rewrite\", \"Erase again, and then\", \"A poppy blooms.\"]\n",
    "vectorizer = StandaloneVectorizer(dataset)\n",
    "print(f\"Vocabulary: {vectorizer.vocab}\")\n",
    "\n",
    "test_sentence = \"I write, rewrite, and still rewrite again\"\n",
    "encoded_sentence = vectorizer.encode(test_sentence)\n",
    "print(f\"Encoded sentence {encoded_sentence}\")\n",
    "decoded_sentence = vectorizer.decode(encoded_sentence)\n",
    "print(f\"Decoded sentence: {decoded_sentence}\")"
   ],
   "metadata": {
    "collapsed": false,
    "pycharm": {
     "name": "#%%\n"
    }
   }
  },
  {
   "cell_type": "markdown",
   "source": [
    "### TextVectorization Layer, built into Keras"
   ],
   "metadata": {
    "collapsed": false,
    "pycharm": {
     "name": "#%% md\n"
    }
   }
  },
  {
   "cell_type": "code",
   "execution_count": 14,
   "outputs": [
    {
     "name": "stdout",
     "output_type": "stream",
     "text": [
      "['', '[UNK]', 'erase', 'write', 'then', 'rewrite', 'poppy', 'i', 'blooms', 'and', 'again', 'a']\n",
      "tf.Tensor([ 7  3  5  9  1  5 10], shape=(7,), dtype=int64)\n",
      "tf.Tensor([ 7  3  5  9  1  5 10], shape=(7,), dtype=int64)\n"
     ]
    }
   ],
   "source": [
    "# default text vectorization\n",
    "default_text = layers.TextVectorization()\n",
    "\n",
    "# custom standarization and split functions\n",
    "def custom_standardization(string_tensor: tf.string) -> tf.string:\n",
    "    lowercase_string = tf.strings.lower(string_tensor)\n",
    "    return tf.strings.regex_replace(lowercase_string, f\"[{re.escape(string.punctuation)}]\", \"\")\n",
    "\n",
    "def custom_split(string_tensor: tf.string) -> tf.string:\n",
    "    return tf.strings.split(string_tensor)\n",
    "\n",
    "# create a custom text vectorizer\n",
    "custom_text = layers.TextVectorization(output_mode=\"int\", standardize=custom_standardization, split=custom_split)\n",
    "\n",
    "# add our vocabulary into it\n",
    "default_text.adapt(dataset)\n",
    "custom_text.adapt(dataset)\n",
    "\n",
    "# print some stuff :D\n",
    "print(default_text.get_vocabulary())\n",
    "print(default_text(test_sentence))\n",
    "print(custom_text(test_sentence))"
   ],
   "metadata": {
    "collapsed": false,
    "pycharm": {
     "name": "#%%\n"
    }
   }
  }
 ],
 "metadata": {
  "kernelspec": {
   "display_name": "Python 3",
   "language": "python",
   "name": "python3"
  },
  "language_info": {
   "codemirror_mode": {
    "name": "ipython",
    "version": 2
   },
   "file_extension": ".py",
   "mimetype": "text/x-python",
   "name": "python",
   "nbconvert_exporter": "python",
   "pygments_lexer": "ipython2",
   "version": "2.7.6"
  }
 },
 "nbformat": 4,
 "nbformat_minor": 0
}