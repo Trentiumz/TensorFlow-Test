{
 "cells": [
  {
   "cell_type": "markdown",
   "metadata": {
    "collapsed": true,
    "pycharm": {
     "name": "#%% md\n"
    }
   },
   "source": [
    "# Predicting Housing Prices"
   ]
  },
  {
   "cell_type": "code",
   "execution_count": 1,
   "outputs": [
    {
     "name": "stderr",
     "output_type": "stream",
     "text": [
      "c:\\users\\danie\\pycharmprojects\\tensorflowtest\\venv\\lib\\site-packages\\numpy\\_distributor_init.py:30: UserWarning: loaded more than 1 DLL from .libs:\n",
      "c:\\users\\danie\\pycharmprojects\\tensorflowtest\\venv\\lib\\site-packages\\numpy\\.libs\\libopenblas.GK7GX5KEQ4F6UYO3P26ULGBQYHGQO7J4.gfortran-win_amd64.dll\n",
      "c:\\users\\danie\\pycharmprojects\\tensorflowtest\\venv\\lib\\site-packages\\numpy\\.libs\\libopenblas.WCDJNK7YVMPZQ2ME2ZZHJJRJ3JIKNDB7.gfortran-win_amd64.dll\n",
      "  warnings.warn(\"loaded more than 1 DLL from .libs:\"\n"
     ]
    }
   ],
   "source": [
    "# imports\n",
    "import tensorflow as tf\n",
    "from tensorflow import keras\n",
    "from keras import layers\n",
    "import numpy as np\n",
    "import matplotlib.pyplot as plt\n",
    "from tensorflow.keras.datasets import boston_housing"
   ],
   "metadata": {
    "collapsed": false,
    "pycharm": {
     "name": "#%%\n"
    }
   }
  },
  {
   "cell_type": "markdown",
   "source": [
    "### Loading & Processing Data"
   ],
   "metadata": {
    "collapsed": false,
    "pycharm": {
     "name": "#%% md\n"
    }
   }
  },
  {
   "cell_type": "code",
   "execution_count": 9,
   "outputs": [],
   "source": [
    "# Load in data\n",
    "(train_data, train_label), (test_data, test_label) = (boston_housing.load_data())\n",
    "\n",
    "# means calculatd along first axis (for any column, get mean of rows in that column)\n",
    "# note that rows are first axis\n",
    "mean = train_data.mean(axis=0)\n",
    "std = train_data.std(axis=0)\n",
    "train_data = (train_data - mean) / std\n",
    "test_data = (test_data - mean) / std"
   ],
   "metadata": {
    "collapsed": false,
    "pycharm": {
     "name": "#%%\n"
    }
   }
  },
  {
   "cell_type": "markdown",
   "source": [
    "### Building and Training Model"
   ],
   "metadata": {
    "collapsed": false,
    "pycharm": {
     "name": "#%% md\n"
    }
   }
  },
  {
   "cell_type": "code",
   "execution_count": 70,
   "outputs": [],
   "source": [
    "def build_model():\n",
    "    model = keras.Sequential([\n",
    "        layers.Dense(64, activation=\"relu\"),\n",
    "        layers.Dense(32, activation=\"relu\"),\n",
    "        layers.Dense(1)\n",
    "    ])\n",
    "    model.compile(optimizer=\"rmsprop\", loss=\"mse\", metrics=[\"mae\"])\n",
    "    return model"
   ],
   "metadata": {
    "collapsed": false,
    "pycharm": {
     "name": "#%%\n"
    }
   }
  },
  {
   "cell_type": "code",
   "execution_count": 74,
   "outputs": [
    {
     "name": "stdout",
     "output_type": "stream",
     "text": [
      "Running fold 0\n",
      "2.0695550441741943\n",
      "Running fold 1\n",
      "2.6654162406921387\n",
      "Running fold 2\n",
      "2.354933023452759\n",
      "Running fold 3\n",
      "2.329092264175415\n"
     ]
    }
   ],
   "source": [
    "# train with k-fold validation\n",
    "k = 4\n",
    "epochs = 225\n",
    "val_size = len(train_data) // k\n",
    "# list of mae scores\n",
    "all_scores = []\n",
    "for i in range(k):\n",
    "    print(f\"Running fold {i}\")\n",
    "    # create the i-th fold\n",
    "    lef, rig = i * val_size, (i + 1) * val_size\n",
    "    x_val = train_data[lef:rig]\n",
    "    y_val = train_label[lef:rig]\n",
    "    x_train = np.concatenate((train_data[:lef], train_data[rig:]))\n",
    "    y_train = np.concatenate((train_label[:lef], train_label[rig:]))\n",
    "\n",
    "    # run the model\n",
    "    model = build_model()\n",
    "    history = model.fit(x_train, y_train, batch_size=16, epochs=epochs,\n",
    "                        validation_data=(x_val, y_val), verbose=0)\n",
    "    mae_history = history.history[\"val_mae\"]\n",
    "\n",
    "    # append the resulting validation mae score\n",
    "    all_scores.append(mae_history)\n",
    "\n",
    "    # print the final validation mae score\n",
    "    print(mae_history[-1])"
   ],
   "metadata": {
    "collapsed": false,
    "pycharm": {
     "name": "#%%\n"
    }
   }
  },
  {
   "cell_type": "code",
   "execution_count": 75,
   "outputs": [
    {
     "data": {
      "text/plain": "<Figure size 432x288 with 1 Axes>",
      "image/png": "[encoded data removed]"
     },
     "metadata": {
      "needs_background": "light"
     },
     "output_type": "display_data"
    }
   ],
   "source": [
    "# plot the average mae scores\n",
    "mae_scores = np.array(all_scores)\n",
    "avg_mae = np.mean(mae_scores, axis=0)[10:]\n",
    "\n",
    "plt.plot(range(1, len(avg_mae) + 1), avg_mae)\n",
    "plt.xlabel(\"Epochs\")\n",
    "plt.ylabel(\"Validation MAE\")\n",
    "plt.show()"
   ],
   "metadata": {
    "collapsed": false,
    "pycharm": {
     "name": "#%%\n"
    }
   }
  },
  {
   "cell_type": "code",
   "execution_count": 76,
   "outputs": [
    {
     "name": "stdout",
     "output_type": "stream",
     "text": [
      "4/4 [==============================] - 0s 844us/step - loss: 11.7387 - mae: 2.3372\b\b\b\b\b\b\b\b\b\b\b\b\b\b\b\b\b\b\b\b\b\b\b\b\b\b\b\b\b\b\b\b\b\b\b\b\b\b\b\b\b\b\b\b\b\b\b\b\b\b\b\b\b\b\b\b\b\b\b\b\b\b\b\b\b\b\b\b\n"
     ]
    },
    {
     "data": {
      "text/plain": "[11.7387113571167, 2.3371615409851074]"
     },
     "execution_count": 76,
     "metadata": {},
     "output_type": "execute_result"
    }
   ],
   "source": [
    "# evaluate the model on test data\n",
    "model = build_model()\n",
    "model.fit(train_data, train_label, batch_size=16, epochs=epochs, verbose=0)\n",
    "model.evaluate(test_data, test_label)\n"
   ],
   "metadata": {
    "collapsed": false,
    "pycharm": {
     "name": "#%%\n"
    }
   }
  }
 ],
 "metadata": {
  "kernelspec": {
   "display_name": "Python 3",
   "language": "python",
   "name": "python3"
  },
  "language_info": {
   "codemirror_mode": {
    "name": "ipython",
    "version": 2
   },
   "file_extension": ".py",
   "mimetype": "text/x-python",
   "name": "python",
   "nbconvert_exporter": "python",
   "pygments_lexer": "ipython2",
   "version": "2.7.6"
  }
 },
 "nbformat": 4,
 "nbformat_minor": 0
}