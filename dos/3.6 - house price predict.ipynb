{
 "cells": [
  {
   "cell_type": "markdown",
   "source": [
    "### Imports"
   ],
   "metadata": {
    "collapsed": false
   }
  },
  {
   "cell_type": "code",
   "execution_count": 1,
   "outputs": [
    {
     "name": "stderr",
     "output_type": "stream",
     "text": [
      "c:\\users\\danie\\pycharmprojects\\tensorflowtest\\venv\\lib\\site-packages\\numpy\\_distributor_init.py:30: UserWarning: loaded more than 1 DLL from .libs:\n",
      "c:\\users\\danie\\pycharmprojects\\tensorflowtest\\venv\\lib\\site-packages\\numpy\\.libs\\libopenblas.GK7GX5KEQ4F6UYO3P26ULGBQYHGQO7J4.gfortran-win_amd64.dll\n",
      "c:\\users\\danie\\pycharmprojects\\tensorflowtest\\venv\\lib\\site-packages\\numpy\\.libs\\libopenblas.WCDJNK7YVMPZQ2ME2ZZHJJRJ3JIKNDB7.gfortran-win_amd64.dll\n",
      "  warnings.warn(\"loaded more than 1 DLL from .libs:\"\n"
     ]
    }
   ],
   "source": [
    "import tensorflow as tf\n",
    "from tensorflow import keras\n",
    "from keras import models, layers\n",
    "from keras.datasets import boston_housing\n",
    "import tensorflow_datasets as tfds\n",
    "from tensorflow.keras.layers import Conv2D, Dense\n",
    "import numpy as np\n",
    "import matplotlib.pyplot as plt\n",
    "import random"
   ],
   "metadata": {
    "collapsed": false,
    "pycharm": {
     "name": "#%%\n"
    }
   }
  },
  {
   "cell_type": "markdown",
   "source": [
    "### Data"
   ],
   "metadata": {
    "collapsed": false,
    "pycharm": {
     "name": "#%% md\n"
    }
   }
  },
  {
   "cell_type": "code",
   "execution_count": 2,
   "outputs": [],
   "source": [
    "(train_data, train_targets), (test_data, test_targets) = boston_housing.load_data()"
   ],
   "metadata": {
    "collapsed": false,
    "pycharm": {
     "name": "#%%\n"
    }
   }
  },
  {
   "cell_type": "code",
   "execution_count": 3,
   "outputs": [],
   "source": [
    "mean = train_data.mean(axis=0)\n",
    "train_data -= mean\n",
    "test_data -= mean\n",
    "\n",
    "std = train_data.std(axis=0)\n",
    "train_data /= std\n",
    "test_data /= std"
   ],
   "metadata": {
    "collapsed": false,
    "pycharm": {
     "name": "#%%\n"
    }
   }
  },
  {
   "cell_type": "markdown",
   "source": [
    "### Network\n"
   ],
   "metadata": {
    "collapsed": false,
    "pycharm": {
     "name": "#%% md\n"
    }
   }
  },
  {
   "cell_type": "code",
   "execution_count": 9,
   "outputs": [],
   "source": [
    "def build_model():\n",
    "    model = models.Sequential()\n",
    "    model.add(layers.Dropout(0.2, input_shape=(13,)))\n",
    "    model.add(Dense(64, activation=\"relu\"))\n",
    "    model.add(layers.Dropout(0.3))\n",
    "    model.add(Dense(64, activation=\"relu\"))\n",
    "    model.add(Dense(1))\n",
    "\n",
    "    model.compile(optimizer=\"rmsprop\", loss=\"mse\", metrics=[\"mae\"])\n",
    "    return model"
   ],
   "metadata": {
    "collapsed": false,
    "pycharm": {
     "name": "#%%\n"
    }
   }
  },
  {
   "cell_type": "markdown",
   "source": [
    "#### K-fold validation"
   ],
   "metadata": {
    "collapsed": false,
    "pycharm": {
     "name": "#%% md\n"
    }
   }
  },
  {
   "cell_type": "code",
   "execution_count": 20,
   "outputs": [
    {
     "name": "stdout",
     "output_type": "stream",
     "text": [
      "(101, 13) (303, 13) (404, 13)\n",
      "(101, 13) (303, 13) (404, 13)\n",
      "(101, 13) (303, 13) (404, 13)\n",
      "(101, 13) (303, 13) (404, 13)\n"
     ]
    }
   ],
   "source": [
    "k = 4\n",
    "samples_per = len(train_data) // k\n",
    "num_epochs = 200\n",
    "val_mae_history = np.zeros((k, num_epochs))\n",
    "train_mae_history = np.zeros((k, num_epochs))\n",
    "for i in range(k):\n",
    "    val_data = train_data[i * samples_per: (i + 1) * samples_per]\n",
    "    val_targets = train_targets[i * samples_per:(i + 1) * samples_per]\n",
    "    p_train_data = np.concatenate((train_data[:i * samples_per], train_data[(i + 1) * samples_per:]))\n",
    "    p_train_targets = np.concatenate((train_targets[:i * samples_per], train_targets[(i + 1) * samples_per:]))\n",
    "    print(val_data.shape, p_train_data.shape, train_data.shape)\n",
    "\n",
    "    model = build_model()\n",
    "    history = model.fit(p_train_data, p_train_targets, epochs=num_epochs, batch_size=1, validation_data=(val_data, val_targets), verbose=0)\n",
    "\n",
    "    mae_history = np.array(history.history[\"mae\"])\n",
    "    train_mae_history[i] = mae_history\n",
    "    mae_history = np.array(history.history[\"val_mae\"])\n",
    "    val_mae_history[i] = mae_history"
   ],
   "metadata": {
    "collapsed": false,
    "pycharm": {
     "name": "#%%\n"
    }
   }
  },
  {
   "cell_type": "markdown",
   "source": [
    "#### Validation Analysis"
   ],
   "metadata": {
    "collapsed": false,
    "pycharm": {
     "name": "#%% md\n"
    }
   }
  },
  {
   "cell_type": "code",
   "execution_count": 23,
   "outputs": [
    {
     "data": {
      "text/plain": "<Figure size 432x288 with 1 Axes>",
      "image/png": "[encoded data removed]"
     },
     "metadata": {
      "needs_background": "light"
     },
     "output_type": "display_data"
    }
   ],
   "source": [
    "def smooth(samples: list, factor: int = 0.1):\n",
    "    smoothened = []\n",
    "    for val in samples:\n",
    "        if len(smoothened) > 0:\n",
    "            smoothened.append(smoothened[-1] * factor + (1 - factor) * val)\n",
    "        else:\n",
    "            smoothened.append(val)\n",
    "    return smoothened\n",
    "\n",
    "average_val_smoothed = smooth([np.mean(val_mae_history[:,i]) for i in range(num_epochs)])\n",
    "average_train_smoothed = smooth([np.mean(train_mae_history[:,i]) for i in range(num_epochs)])\n",
    "epochs = range(1, num_epochs + 1)\n",
    "plt.plot(epochs[10:], average_val_smoothed[10:], \"b\", label=\"Validation MAE\")\n",
    "plt.plot(epochs[10:], average_train_smoothed[10:], \"bo\", label=\"Train MAE\")\n",
    "plt.legend()\n",
    "plt.xlabel(\"Epochs\")\n",
    "plt.ylabel(\"Validation MAE\")\n",
    "plt.show()"
   ],
   "metadata": {
    "collapsed": false,
    "pycharm": {
     "name": "#%%\n"
    }
   }
  },
  {
   "cell_type": "markdown",
   "source": [
    "#### Post analysis training"
   ],
   "metadata": {
    "collapsed": false,
    "pycharm": {
     "name": "#%% md\n"
    }
   }
  },
  {
   "cell_type": "code",
   "execution_count": 28,
   "outputs": [
    {
     "name": "stdout",
     "output_type": "stream",
     "text": [
      "4/4 [==============================] - 0s 1ms/step - loss: 26.5385 - mae: 3.7871\b\b\b\b\b\b\b\b\b\b\b\b\b\b\b\b\b\b\b\b\b\b\b\b\b\b\b\b\b\b\b\b\b\b\b\b\b\b\b\b\b\b\b\b\b\b\b\b\b\b\b\b\b\b\b\b\b\b\b\b\b\b\b\b\b\b\b\b\b\b\b\b\n",
      "EVALUATION\n",
      "Mean Squared Error: 26.538501739501953\n",
      "Mean Absolute Error: 3.78707218170166\n"
     ]
    }
   ],
   "source": [
    "model = build_model()\n",
    "history = model.fit(train_data, train_targets, epochs=300, batch_size=1, verbose=0)\n",
    "test_mse, test_mae = model.evaluate(test_data, test_targets)\n",
    "print(\"EVALUATION\")\n",
    "print(\"Mean Squared Error:\", test_mse)\n",
    "print(\"Mean Absolute Error:\", test_mae)"
   ],
   "metadata": {
    "collapsed": false,
    "pycharm": {
     "name": "#%%\n"
    }
   }
  },
  {
   "cell_type": "code",
   "execution_count": 30,
   "outputs": [
    {
     "data": {
      "text/plain": "<Figure size 432x288 with 1 Axes>",
      "image/png": "[encoded data removed]"
     },
     "metadata": {
      "needs_background": "light"
     },
     "output_type": "display_data"
    }
   ],
   "source": [
    "mae = np.array(history.history[\"mae\"])\n",
    "epochs = range(1, 301)\n",
    "plt.plot(epochs[10:], mae[10:], \"b\")\n",
    "plt.show()\n"
   ],
   "metadata": {
    "collapsed": false,
    "pycharm": {
     "name": "#%%\n"
    }
   }
  }
 ],
 "metadata": {
  "kernelspec": {
   "display_name": "Python 3",
   "language": "python",
   "name": "python3"
  },
  "language_info": {
   "codemirror_mode": {
    "name": "ipython",
    "version": 2
   },
   "file_extension": ".py",
   "mimetype": "text/x-python",
   "name": "python",
   "nbconvert_exporter": "python",
   "pygments_lexer": "ipython2",
   "version": "2.7.6"
  }
 },
 "nbformat": 4,
 "nbformat_minor": 0
}